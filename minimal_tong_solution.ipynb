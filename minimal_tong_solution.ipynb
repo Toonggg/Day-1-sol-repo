{
 "cells": [
  {
   "cell_type": "markdown",
   "metadata": {},
   "source": [
    "# Interactive Python using jupyter notebooks"
   ]
  },
  {
   "cell_type": "markdown",
   "metadata": {},
   "source": [
    "- Notebooks are made of a sequence of cells\n",
    "- Cells can contain different content such as Python code, or Markdown\n",
    "- You can change the cell type in the toolbar\n",
    "- To execute a cell press \"Shift+Return\"\n",
    "- Use the tool bar to add, delete, copy, or insert cells"
   ]
  },
  {
   "cell_type": "markdown",
   "metadata": {},
   "source": [
    "(Note: to learn more about Markdown check [Daring Fireball's website](https://daringfireball.net/projects/markdown/syntax))"
   ]
  },
  {
   "cell_type": "markdown",
   "metadata": {},
   "source": [
    "## Import the Python package for numerical arrays (numpy)"
   ]
  },
  {
   "cell_type": "code",
   "execution_count": 2,
   "metadata": {},
   "outputs": [],
   "source": [
    "import numpy as np "
   ]
  },
  {
   "cell_type": "markdown",
   "metadata": {},
   "source": [
    "## Define a function that creates some statistical data"
   ]
  },
  {
   "cell_type": "code",
   "execution_count": 3,
   "metadata": {},
   "outputs": [],
   "source": [
    "def load_data():    \n",
    "    # Goalkeeper, defender, midfielder, attacker\n",
    "    possible_positions = ['GK', 'D', 'M', 'A']\n",
    "    N = 100\n",
    "    positions = []\n",
    "    heights = []\n",
    "    for i in range(0,N):\n",
    "        positions.append(possible_positions[np.random.randint(len(possible_positions))])\n",
    "        heights.append(np.random.normal(loc=180.0,scale=5.0))\n",
    "    return positions, heights "
   ]
  },
  {
   "cell_type": "markdown",
   "metadata": {},
   "source": [
    "## Read the data"
   ]
  },
  {
   "cell_type": "code",
   "execution_count": 4,
   "metadata": {},
   "outputs": [],
   "source": [
    "positions, heights = load_data() "
   ]
  },
  {
   "cell_type": "markdown",
   "metadata": {},
   "source": [
    "The objects ```positions``` and ```heights``` are lists as we can check using the Python function ```type```:"
   ]
  },
  {
   "cell_type": "code",
   "execution_count": 5,
   "metadata": {
    "collapsed": false,
    "jupyter": {
     "outputs_hidden": false
    }
   },
   "outputs": [
    {
     "name": "stdout",
     "output_type": "stream",
     "text": [
      "100\n",
      "100\n"
     ]
    }
   ],
   "source": [
    "print(len(positions))\n",
    "print(len(heights)) "
   ]
  },
  {
   "cell_type": "markdown",
   "metadata": {},
   "source": [
    "Question: *How many items are inside the lists ```positions``` and ```heights```?\n",
    "\n",
    "Hint: Use the Python function ```len```. "
   ]
  },
  {
   "cell_type": "markdown",
   "metadata": {},
   "source": [
    "## Convert to numpy arrays"
   ]
  },
  {
   "cell_type": "code",
   "execution_count": 6,
   "metadata": {},
   "outputs": [],
   "source": [
    "np_positions = np.array(positions)\n",
    "np_heights = np.array(heights) "
   ]
  },
  {
   "cell_type": "markdown",
   "metadata": {},
   "source": [
    "Question: *what is the data type of ```np_positions``` and ```np_heights```*?<br>\n",
    "Question: *what is the shape of ```np_positions``` and ```np_heights```*?\n",
    "\n",
    "\n",
    "Hint: Numpy objects have member functions called ```dtype``` and ```shape```."
   ]
  },
  {
   "cell_type": "code",
   "execution_count": 7,
   "metadata": {
    "collapsed": false,
    "jupyter": {
     "outputs_hidden": false
    }
   },
   "outputs": [
    {
     "name": "stdout",
     "output_type": "stream",
     "text": [
      "Positions shape: (100,)\n",
      "Positions type: <U2\n",
      "Heights shape: (100,)\n"
     ]
    }
   ],
   "source": [
    "print(\"Positions shape:\", np_positions.shape)\n",
    "print(\"Positions type:\", np_positions.dtype)\n",
    "print(\"Heights shape:\", np_heights.shape)"
   ]
  },
  {
   "cell_type": "markdown",
   "metadata": {},
   "source": [
    "## Extract the heights of the goalkeepers"
   ]
  },
  {
   "cell_type": "code",
   "execution_count": 8,
   "metadata": {},
   "outputs": [],
   "source": [
    "gk_heights = np_heights[np_positions == 'GK']"
   ]
  },
  {
   "cell_type": "markdown",
   "metadata": {},
   "source": [
    "## Print the median of the goalkeepers heights"
   ]
  },
  {
   "cell_type": "code",
   "execution_count": 9,
   "metadata": {
    "collapsed": false,
    "jupyter": {
     "outputs_hidden": false
    }
   },
   "outputs": [
    {
     "name": "stdout",
     "output_type": "stream",
     "text": [
      "Median height of goalkeepers: 177.12365221972973\n",
      "Median height of attackers: 182.7527138092379\n",
      "Median height of field players: 180.49685436938302\n",
      "Median height of goalkeepers and attackers: 180.10943347138837\n"
     ]
    }
   ],
   "source": [
    "print(\"Median height of goalkeepers: \" + str(np.median(gk_heights)))\n",
    "\n",
    "attacker_heights = np_heights[np_positions == 'A']\n",
    "print(\"Median height of attackers: \" + str(np.median(attacker_heights)))\n",
    "\n",
    "field_heights = np_heights[(np_positions == 'D') | (np_positions == 'M') | (np_positions == 'A')]\n",
    "print(\"Median height of field players: \" + str(np.median(field_heights)))\n",
    "\n",
    "goalattack_heights = np_heights[(np_positions == 'A') | (np_positions == 'GK')]\n",
    "print(\"Median height of goalkeepers and attackers: \" + str(np.median(goalattack_heights))) "
   ]
  },
  {
   "cell_type": "markdown",
   "metadata": {},
   "source": [
    "Question: *what is the median height of all the field players*?<br>\n",
    "Question: *what is the median height of all the attackers*?<br>\n",
    "Question: *what is the median height of goalkeepers and the attackers combined?*"
   ]
  },
  {
   "cell_type": "markdown",
   "metadata": {},
   "source": [
    "# More statistical tests"
   ]
  },
  {
   "cell_type": "markdown",
   "metadata": {},
   "source": [
    "Besides the ```median```, numpy als comes with the functions ```mean```, ```std```, ```min``` and ```max``` which are useful for investigating statistical data. "
   ]
  },
  {
   "cell_type": "markdown",
   "metadata": {},
   "source": [
    "Question: *Who is the shortest player (which position)*?<br>\n",
    "Question: *Who is the tallest player (which position)*?"
   ]
  },
  {
   "cell_type": "code",
   "execution_count": 10,
   "metadata": {},
   "outputs": [
    {
     "name": "stdout",
     "output_type": "stream",
     "text": [
      "Shortest player: ['GK']\n",
      "Tallest player: ['A']\n"
     ]
    }
   ],
   "source": [
    "shortindex = np.where(np_heights == np.min(np_heights))\n",
    "playershort = np_positions[shortindex]\n",
    "print(\"Shortest player:\", playershort) \n",
    "tallindex = np.where(np_heights == np.max(np_heights))\n",
    "playertall = np_positions[tallindex]\n",
    "print(\"Tallest player:\", playertall) "
   ]
  },
  {
   "cell_type": "markdown",
   "metadata": {},
   "source": [
    "## Data plotting"
   ]
  },
  {
   "cell_type": "markdown",
   "metadata": {},
   "source": [
    "For plotting, we need the package matplotlib"
   ]
  },
  {
   "cell_type": "code",
   "execution_count": 11,
   "metadata": {},
   "outputs": [],
   "source": [
    "import matplotlib.pyplot as plt"
   ]
  },
  {
   "cell_type": "markdown",
   "metadata": {},
   "source": [
    "There are different display modes for matplotlib plots inside a jupyter notebook."
   ]
  },
  {
   "cell_type": "code",
   "execution_count": 12,
   "metadata": {},
   "outputs": [],
   "source": [
    "# For inline plots use\n",
    "%matplotlib inline"
   ]
  },
  {
   "cell_type": "markdown",
   "metadata": {},
   "source": [
    "Lets visualize the height distribution of the defenders"
   ]
  },
  {
   "cell_type": "code",
   "execution_count": 13,
   "metadata": {
    "collapsed": false,
    "jupyter": {
     "outputs_hidden": false
    }
   },
   "outputs": [],
   "source": [
    "d_heights = np_heights[np_positions == 'D']"
   ]
  },
  {
   "cell_type": "code",
   "execution_count": 14,
   "metadata": {
    "collapsed": false,
    "jupyter": {
     "outputs_hidden": false
    }
   },
   "outputs": [
    {
     "data": {
      "image/png": "[encoded data removed]",
      "text/plain": [
       "<Figure size 432x288 with 1 Axes>"
      ]
     },
     "metadata": {
      "needs_background": "light"
     },
     "output_type": "display_data"
    }
   ],
   "source": [
    "plt.figure()\n",
    "plt.hist(d_heights)\n",
    "plt.title('Defenders')\n",
    "plt.xlabel('Heights')\n",
    "plt.show() "
   ]
  },
  {
   "cell_type": "markdown",
   "metadata": {},
   "source": [
    "To figure out the tallest/shortest player, we can the max/min within each position"
   ]
  },
  {
   "cell_type": "code",
   "execution_count": 15,
   "metadata": {},
   "outputs": [],
   "source": [
    "p = ['GK', 'D', 'M', 'A']\n",
    "p_max = [np_heights[np_positions == i].max() for i in p] "
   ]
  },
  {
   "cell_type": "code",
   "execution_count": 16,
   "metadata": {
    "collapsed": false,
    "jupyter": {
     "outputs_hidden": false
    }
   },
   "outputs": [
    {
     "data": {
      "image/png": "[encoded data removed]",
      "text/plain": [
       "<Figure size 432x288 with 1 Axes>"
      ]
     },
     "metadata": {
      "needs_background": "light"
     },
     "output_type": "display_data"
    }
   ],
   "source": [
    "plt.figure()\n",
    "plt.plot(range(len(p)), p_max)\n",
    "plt.gca().xaxis.set_ticks(range(len(p)))\n",
    "plt.gca().xaxis.set_ticklabels(p)\n",
    "plt.ylabel('Heights')\n",
    "plt.show()"
   ]
  },
  {
   "cell_type": "markdown",
   "metadata": {},
   "source": [
    "For inspiration on data plotting and more examples, check out the matplotlib gallery: [https://matplotlib.org/gallery.html](https://matplotlib.org/gallery.html)"
   ]
  }
 ],
 "metadata": {
  "kernelspec": {
   "display_name": "Python 3",
   "language": "python",
   "name": "python3"
  },
  "language_info": {
   "codemirror_mode": {
    "name": "ipython",
    "version": 3
   },
   "file_extension": ".py",
   "mimetype": "text/x-python",
   "name": "python",
   "nbconvert_exporter": "python",
   "pygments_lexer": "ipython3",
   "version": "3.8.5"
  }
 },
 "nbformat": 4,
 "nbformat_minor": 4
}
